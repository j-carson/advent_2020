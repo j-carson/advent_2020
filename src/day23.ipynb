{
 "cells": [
  {
   "cell_type": "markdown",
   "metadata": {},
   "source": [
    "Each move, the crab does the following actions:\n",
    "\n",
    " -  The crab picks up the three cups that are immediately clockwise of the current cup. They are removed from the circle; cup spacing is adjusted as necessary to maintain the circle.\n",
    " -  The crab selects a destination cup: the cup with a label equal to the current cup's label minus one. If this would select one of the cups that was just picked up, the crab will keep subtracting one until it finds a cup that wasn't just picked up. If at any point in this process the value goes below the lowest value on any cup's label, it wraps around to the highest value on any cup's label instead.\n",
    " -  The crab places the cups it just picked up so that they are immediately clockwise of the destination cup. They keep the same order as when they were picked up.\n",
    " -  The crab selects a new current cup: the cup which is immediately clockwise of the current cup.\n"
   ]
  },
  {
   "cell_type": "code",
   "execution_count": null,
   "metadata": {},
   "outputs": [],
   "source": [
    "class Cup:\n",
    "    __slots__ = 'label', 'next_cup'\n",
    "    DIRECTORY = {}\n",
    "    \n",
    "    def __init__(self, label, nextcup=None):\n",
    "        self.label = label\n",
    "        self.next_cup = nextcup\n",
    "        Cup.save_cup(self)\n",
    "        \n",
    "    @classmethod\n",
    "    def find_cup(cls, label):\n",
    "        return Cup.DIRECTORY[label]\n",
    "\n",
    "    @classmethod\n",
    "    def save_cup(cls, cup):\n",
    "        Cup.DIRECTORY[cup.label] = cup\n",
    "\n",
    "class CupGame:\n",
    "    __slots__ = 'size', 'current_cup'\n",
    "    def __init__(self, config, size = None, debug = False):\n",
    "        \n",
    "        if size is None:\n",
    "            size = len(config)\n",
    "        self.size = size\n",
    "            \n",
    "        self.current_cup = Cup(config[0], None)\n",
    "        \n",
    "        prev_cup = self.current_cup\n",
    "        for label in config[1:]:\n",
    "            next_cup = Cup(label, None)\n",
    "            prev_cup.next_cup = next_cup\n",
    "            prev_cup = next_cup\n",
    "            \n",
    "        if size > len(config):\n",
    "            max_cup = len(config)\n",
    "            more_cups = size - len(config)\n",
    "            for i in range(more_cups):\n",
    "                next_cup = Cup(i+max_cup + 1, None)\n",
    "                prev_cup.next_cup = next_cup\n",
    "                prev_cup = next_cup\n",
    "                \n",
    "        # last cup in the cycle has to complete the circle\n",
    "        next_cup.next_cup = self.current_cup\n",
    "        debug and print(f\"Initial config {list(self.cups_starting_at(self.current_cup.label))}\")\n",
    "        \n",
    "    def play1(self, debug = False):\n",
    "        \n",
    "        debug and print(f\"Current cup ({self.current_cup.label})\")\n",
    "        \n",
    "        # pick up three cups immediately clockwise\n",
    "        # of the current cup\n",
    "        picked_up = self.current_cup.next_cup\n",
    "        labels = [\n",
    "            picked_up.label,\n",
    "            picked_up.next_cup.label,\n",
    "            picked_up.next_cup.next_cup.label\n",
    "        ]\n",
    "        debug and print(f\"Pick up {labels}\")\n",
    "        \n",
    "        # The cup circle is readjusted\n",
    "        self.current_cup.next_cup = picked_up.next_cup.next_cup.next_cup\n",
    "        debug and print(f\"Closed circle after removing {list(self.cups_starting_at(self.current_cup.label))}\")\n",
    "        \n",
    "        # Find the cup with a label equal to the current\n",
    "        # cup's label minus 1. \n",
    "        destination_label = self.current_cup.label - 1\n",
    "        if destination_label < 1:\n",
    "            destination_label = self.size\n",
    "        \n",
    "        # If this would select one of the cups that was just picked up, \n",
    "        # will keep subtracting one until find a cup that wasn't just picked up. \n",
    "        # If at any point the value goes below the lowest value \n",
    "        # on any label, wrap around to the highest value \n",
    "        while destination_label in labels:\n",
    "            destination_label -= 1\n",
    "            if destination_label < 1:\n",
    "                destination_label = self.size\n",
    "                \n",
    "        debug and print(f\"Destination is {destination_label}\")\n",
    "                \n",
    "        # Place the cups just picked up so they are immediately \n",
    "        # clockwise of destination cup, keeping same order as\n",
    "        # when picked up\n",
    "        destination_cup = Cup.find_cup(destination_label)\n",
    "        picked_up.next_cup.next_cup.next_cup = destination_cup.next_cup\n",
    "        destination_cup.next_cup = picked_up\n",
    "        \n",
    "        # Select new current cup, immediately clockwise of \n",
    "        # the current cup\n",
    "        self.current_cup = self.current_cup.next_cup\n",
    "        \n",
    "        debug and print(f\"Final configuration {list(self.cups_starting_at(self.current_cup.label))}\")\n",
    "        \n",
    "    def nrounds(self, n):\n",
    "        for _ in range(n):\n",
    "            self.play1()\n",
    "            \n",
    "    def cups_starting_at(self, cupnum):\n",
    "        stoploss = 0\n",
    "        cup = Cup.find_cup(cupnum)\n",
    "        while True:\n",
    "            yield cup.label\n",
    "            cup = cup.next_cup\n",
    "            if cup.label == cupnum:\n",
    "                break\n",
    "            stoploss += 1\n",
    "            if stoploss > 25:\n",
    "                break\n",
    "            \n",
    "    def score(self):\n",
    "        return \"\".join([str(i) for i in self.cups_starting_at(1)])[1:]"
   ]
  },
  {
   "cell_type": "code",
   "execution_count": null,
   "metadata": {},
   "outputs": [],
   "source": [
    "test_input = [3, 8,  9,  1,  2,  5,  4,  6,  7]\n",
    "g = CupGame(test_input)\n",
    "g.nrounds(10)\n",
    "g.score()"
   ]
  },
  {
   "cell_type": "code",
   "execution_count": null,
   "metadata": {},
   "outputs": [],
   "source": [
    "my_input = [ 4,6,3,5,2,8,1,7,9 ]\n",
    "g = CupGame(my_input)\n",
    "g.nrounds(100)\n",
    "g.score()"
   ]
  },
  {
   "cell_type": "markdown",
   "metadata": {},
   "source": [
    "# Problem 2\n",
    "\n",
    "Due to what you can only assume is a mistranslation (you're not exactly fluent in Crab), you are quite surprised when the crab starts arranging many cups in a circle on your raft - one million (1000000) in total.\n",
    "\n",
    "Your labeling is still correct for the first few cups; after that, the remaining cups are just numbered in an increasing fashion starting from the number after the highest number in your list and proceeding one by one until one million is reached. (For example, if your labeling were 54321, the cups would be numbered 5, 4, 3, 2, 1, and then start counting up from 6 until one million is reached.) In this way, every number from one through one million is used exactly once.\n",
    "\n",
    "After discovering where you made the mistake in translating Crab Numbers, you realize the small crab isn't going to do merely 100 moves; the crab is going to do ten million (10000000) moves!\n",
    "\n",
    "The crab is going to hide your stars - one each - under the two cups that will end up immediately clockwise of cup 1. You can have them if you predict what the labels on those cups will be when the crab is finished."
   ]
  },
  {
   "cell_type": "code",
   "execution_count": null,
   "metadata": {},
   "outputs": [],
   "source": [
    "# Let's try 20 before going on to a million\n",
    "g = CupGame(test_input, 20, debug=True)\n",
    "g.play1(debug=True)\n",
    "g.play1(debug=True)"
   ]
  },
  {
   "cell_type": "code",
   "execution_count": null,
   "metadata": {},
   "outputs": [],
   "source": [
    "g = CupGame(my_input, 1_000_000)\n",
    "g.nrounds(10_000_000)"
   ]
  },
  {
   "cell_type": "code",
   "execution_count": null,
   "metadata": {},
   "outputs": [],
   "source": [
    "result = g.cups_starting_at(1)\n",
    "_ = next(result) # skip the 1\n",
    "r1 = next(result)\n",
    "r2 = next(result)"
   ]
  },
  {
   "cell_type": "code",
   "execution_count": null,
   "metadata": {},
   "outputs": [],
   "source": [
    "r1*r2"
   ]
  }
 ],
 "metadata": {
  "kernelspec": {
   "display_name": "myenv",
   "language": "python",
   "name": "myenv"
  },
  "language_info": {
   "codemirror_mode": {
    "name": "ipython",
    "version": 3
   },
   "file_extension": ".py",
   "mimetype": "text/x-python",
   "name": "python",
   "nbconvert_exporter": "python",
   "pygments_lexer": "ipython3",
   "version": "3.8.2"
  }
 },
 "nbformat": 4,
 "nbformat_minor": 4
}
