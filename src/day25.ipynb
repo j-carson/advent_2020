{
 "cells": [
  {
   "cell_type": "code",
   "execution_count": 29,
   "metadata": {},
   "outputs": [
    {
     "name": "stdout",
     "output_type": "stream",
     "text": [
      "6198540\n"
     ]
    }
   ],
   "source": [
    "SPECIAL_NUMBER = 20201227\n",
    "\n",
    "def run_algo(subject, nloop):\n",
    "    cur_value = 1\n",
    "    for _ in range(nloop):\n",
    "        cur_value = (cur_value * subject) % SPECIAL_NUMBER\n",
    "    return cur_value\n",
    "        \n",
    "def find_loopval(subject, key):\n",
    "    cur_value = 1\n",
    "    nloop = 0\n",
    "    while True:\n",
    "        nloop += 1\n",
    "        cur_value = (cur_value * subject) % SPECIAL_NUMBER\n",
    "        if cur_value == key:\n",
    "            return nloop\n",
    "        if nloop > 100_000_000:\n",
    "            raise ValueError(\"hit stoploss\")\n",
    "        \n",
    "\n",
    "my_input1 = 5290733\n",
    "my_input2 = 15231938\n",
    "\n",
    "loop_val2 = find_loopval(7, my_input2)\n",
    "loop_val1 = find_loopval(7, my_input1)\n",
    "\n",
    "ekey_1 = run_algo(my_input1, loop_val2)\n",
    "ekey_2 = run_algo(my_input2, loop_val1)\n",
    "\n",
    "assert ekey_1 == ekey_2\n",
    "print(ekey_1)"
   ]
  },
  {
   "cell_type": "code",
   "execution_count": null,
   "metadata": {},
   "outputs": [],
   "source": []
  }
 ],
 "metadata": {
  "kernelspec": {
   "display_name": "myenv",
   "language": "python",
   "name": "myenv"
  },
  "language_info": {
   "codemirror_mode": {
    "name": "ipython",
    "version": 3
   },
   "file_extension": ".py",
   "mimetype": "text/x-python",
   "name": "python",
   "nbconvert_exporter": "python",
   "pygments_lexer": "ipython3",
   "version": "3.8.2"
  }
 },
 "nbformat": 4,
 "nbformat_minor": 4
}
