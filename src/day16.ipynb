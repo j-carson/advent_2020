{
 "cells": [
  {
   "cell_type": "code",
   "execution_count": 1,
   "metadata": {},
   "outputs": [],
   "source": [
    "import pandas as pd\n",
    "import numpy as np\n",
    "from pathlib import Path\n",
    "from functools import reduce"
   ]
  },
  {
   "cell_type": "code",
   "execution_count": 2,
   "metadata": {},
   "outputs": [],
   "source": [
    "def read_data():\n",
    "    data = Path('train_tickets.txt').read_text()\n",
    "    sections = data.split(\"\\n\\n\")\n",
    "    \n",
    "    ticket_fields = {}\n",
    "    for line in sections[0].splitlines():\n",
    "        field, ranges = line.split(\":\")\n",
    "        ticket_fields[field] = []\n",
    "        ranges = ranges.split(\" or \")\n",
    "        for r in ranges:\n",
    "            low, high = r.split(\"-\")\n",
    "            ticket_fields[field].append((int(low),int(high)))\n",
    "            \n",
    "    my_ticket = [\n",
    "        int(i) for i in sections[1].splitlines()[1].split(\",\")\n",
    "    ]\n",
    "    \n",
    "    other_tickets = []\n",
    "    for line in sections[2].splitlines()[1:]:\n",
    "        other_tickets.append([\n",
    "            int(i) for i in line.split(\",\") ])\n",
    "            \n",
    "    return ticket_fields, my_ticket, other_tickets"
   ]
  },
  {
   "cell_type": "code",
   "execution_count": 3,
   "metadata": {},
   "outputs": [],
   "source": [
    "ticket_fields, my_ticket, other_tickets = read_data()"
   ]
  },
  {
   "cell_type": "markdown",
   "metadata": {},
   "source": [
    "# Problem 1\n",
    "Sorts tickets into valid and invalid tickets, sums the invalid entries \n",
    "in the invalid tickets"
   ]
  },
  {
   "cell_type": "code",
   "execution_count": 4,
   "metadata": {},
   "outputs": [
    {
     "data": {
      "text/plain": [
       "26009"
      ]
     },
     "execution_count": 4,
     "metadata": {},
     "output_type": "execute_result"
    }
   ],
   "source": [
    "def flag_invalid(value, ranges):\n",
    "    for r in ranges:\n",
    "        if r[0] <= value <= r[1]:\n",
    "            return 0\n",
    "    return value\n",
    "    \n",
    "all_ranges = []\n",
    "for items in ticket_fields.values():\n",
    "    all_ranges.extend(items)\n",
    "    \n",
    "valid_tickets = []\n",
    "total = 0\n",
    "for ticket in other_tickets:\n",
    "    ticket_total = 0\n",
    "    for field in ticket:\n",
    "        ticket_total += flag_invalid(field, all_ranges)\n",
    "    if ticket_total:\n",
    "        total += ticket_total\n",
    "    else:\n",
    "        valid_tickets.append(ticket)\n",
    "total"
   ]
  },
  {
   "cell_type": "markdown",
   "metadata": {},
   "source": [
    "# Problem 2\n",
    "\n",
    "Figure out which part of the ticket goes with which field and\n",
    "multiply the departure fields together. "
   ]
  },
  {
   "cell_type": "code",
   "execution_count": 5,
   "metadata": {},
   "outputs": [],
   "source": [
    "arr = pd.DataFrame(np.array(valid_tickets))"
   ]
  },
  {
   "cell_type": "code",
   "execution_count": 6,
   "metadata": {},
   "outputs": [],
   "source": [
    "num_tickets, num_fields = arr.shape\n",
    "column_to_key = {\n",
    "    c: [] for c in arr.columns\n",
    "}\n",
    "\n",
    "for column in arr.columns:\n",
    "    for field in ticket_fields.keys():\n",
    "        low1,high1 = ticket_fields[field][0]\n",
    "        low2,high2 = ticket_fields[field][1]\n",
    "        maybe =(((low1 <= arr[column]) & (arr[column] <= high1)) | \n",
    "                ((low2 <= arr[column]) & (arr[column] <= high2))).sum()\n",
    "        if maybe == num_tickets:\n",
    "            column_to_key[column].append(field)"
   ]
  },
  {
   "cell_type": "code",
   "execution_count": 7,
   "metadata": {},
   "outputs": [
    {
     "data": {
      "text/plain": [
       "589685618167"
      ]
     },
     "execution_count": 7,
     "metadata": {},
     "output_type": "execute_result"
    }
   ],
   "source": [
    "cant_use = set()\n",
    "while len(cant_use) < num_fields:\n",
    "    for key,value in column_to_key.items():\n",
    "        if len(value) == 1:\n",
    "            cant_use.add(value[0])\n",
    "        else:\n",
    "            for v in value:\n",
    "                if v in cant_use:\n",
    "                    value.remove(v)\n",
    "dep_keys = [\n",
    "    k for k,v in column_to_key.items() if v[0].startswith('departure')\n",
    "]\n",
    "dep_vals = [my_ticket[i] for i in dep_keys]\n",
    "prod = reduce(lambda a,b:a*b, dep_vals, 1)\n",
    "prod"
   ]
  },
  {
   "cell_type": "code",
   "execution_count": 8,
   "metadata": {},
   "outputs": [
    {
     "data": {
      "text/plain": [
       "{0: ['departure time'],\n",
       " 1: ['zone'],\n",
       " 2: ['arrival track'],\n",
       " 3: ['departure date'],\n",
       " 4: ['departure platform'],\n",
       " 5: ['departure station'],\n",
       " 6: ['wagon'],\n",
       " 7: ['class'],\n",
       " 8: ['arrival station'],\n",
       " 9: ['route'],\n",
       " 10: ['departure location'],\n",
       " 11: ['duration'],\n",
       " 12: ['departure track'],\n",
       " 13: ['type'],\n",
       " 14: ['arrival location'],\n",
       " 15: ['row'],\n",
       " 16: ['price'],\n",
       " 17: ['seat'],\n",
       " 18: ['arrival platform'],\n",
       " 19: ['train']}"
      ]
     },
     "execution_count": 8,
     "metadata": {},
     "output_type": "execute_result"
    }
   ],
   "source": [
    "column_to_key"
   ]
  },
  {
   "cell_type": "code",
   "execution_count": null,
   "metadata": {},
   "outputs": [],
   "source": []
  }
 ],
 "metadata": {
  "kernelspec": {
   "display_name": "myenv",
   "language": "python",
   "name": "myenv"
  },
  "language_info": {
   "codemirror_mode": {
    "name": "ipython",
    "version": 3
   },
   "file_extension": ".py",
   "mimetype": "text/x-python",
   "name": "python",
   "nbconvert_exporter": "python",
   "pygments_lexer": "ipython3",
   "version": "3.8.2"
  }
 },
 "nbformat": 4,
 "nbformat_minor": 4
}
