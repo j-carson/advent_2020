{
 "cells": [
  {
   "cell_type": "code",
   "execution_count": 81,
   "metadata": {},
   "outputs": [],
   "source": [
    "import pandas as pd\n",
    "import numpy as np\n",
    "from pathlib import Path\n",
    "from functools import reduce, partial\n",
    "\n",
    "def read_data():\n",
    "    data = Path('train_tickets.txt').read_text()\n",
    "    sections = data.split(\"\\n\\n\")\n",
    "    \n",
    "    ticket_fields = {}\n",
    "    for line in sections[0].splitlines():\n",
    "        field, ranges = line.split(\":\")\n",
    "        ticket_fields[field] = []\n",
    "        ranges = ranges.split(\" or \")\n",
    "        for r in ranges:\n",
    "            low, high = r.split(\"-\")\n",
    "            ticket_fields[field].append((int(low),int(high)))\n",
    "            \n",
    "    my_ticket = [\n",
    "        int(i) for i in sections[1].splitlines()[1].split(\",\")\n",
    "    ]\n",
    "    \n",
    "    other_tickets = []\n",
    "    for line in sections[2].splitlines()[1:]:\n",
    "        other_tickets.append([\n",
    "            int(i) for i in line.split(\",\") ])\n",
    "            \n",
    "    return ticket_fields, my_ticket, other_tickets\n",
    "\n",
    "def flag_invalid(value, ranges):\n",
    "    \"\"\"If value is in one of the input ranges, return 0 (no flag as invalid)\n",
    "    Else, return value (to add to the sum asked for by problem 1)\n",
    "    \"\"\"\n",
    "    for r in ranges:\n",
    "        if r[0] <= value <= r[1]:\n",
    "            return 0\n",
    "    return value"
   ]
  },
  {
   "cell_type": "code",
   "execution_count": 82,
   "metadata": {},
   "outputs": [
    {
     "data": {
      "text/plain": [
       "26009"
      ]
     },
     "execution_count": 82,
     "metadata": {},
     "output_type": "execute_result"
    }
   ],
   "source": [
    "ticket_fields, my_ticket, other_tickets = read_data()\n",
    "num_fields = len(ticket_fields)\n",
    "\n",
    "all_ranges = []\n",
    "for items in ticket_fields.values():\n",
    "    all_ranges.extend(items)\n",
    "    \n",
    "ticket_arr = np.array(other_tickets)\n",
    "invalid_fields = np.vectorize(partial(flag_invalid, ranges=all_ranges))(ticket_arr)\n",
    "invalid_fields.sum()"
   ]
  },
  {
   "cell_type": "markdown",
   "metadata": {},
   "source": [
    "# Problem 2\n",
    "\n",
    "Figure out which part of the ticket goes with which field and\n",
    "multiply the departure fields together. "
   ]
  },
  {
   "cell_type": "code",
   "execution_count": 83,
   "metadata": {},
   "outputs": [],
   "source": [
    "# Turn invalid_fields from problem 1 into a row-mask of valid tickets\n",
    "row_mask = np.sum(invalid_fields, axis=1) == 0\n",
    "valid_ticket_arr = ticket_arr[row_mask, :]"
   ]
  },
  {
   "cell_type": "code",
   "execution_count": 96,
   "metadata": {},
   "outputs": [],
   "source": [
    "# For each field, see which columns are valid using same function, but not merging all the ranges together\n",
    "field_to_columns = {}\n",
    "for field in ticket_fields.keys():\n",
    "    invalid_fields = np.vectorize(partial(flag_invalid, ranges=ticket_fields[field]))(valid_ticket_arr)\n",
    "    # true if the column could be the field (nonzero is invalid)\n",
    "    field_to_columns[field] =  np.sum(invalid_fields, axis=0) == 0\n",
    "\n",
    "possible_map_df = pd.DataFrame(field_to_columns)\n",
    "\n",
    "solution = {}\n",
    "for i in range(num_fields):\n",
    "    row_sums = possible_map_df.apply(np.sum, axis=0)\n",
    "    \n",
    "    # find the column that only has one possible ticket index match\n",
    "    # the value idxmin should = 1\n",
    "    field = row_sums.idxmin()\n",
    "    # the ticket index that matches is the one true (the max)\n",
    "    # in a series of falses\n",
    "    index = possible_map_df[field].idxmax()\n",
    "    \n",
    "    solution[field] = index\n",
    "    \n",
    "    # drop the ones we solved, then recompute the sums\n",
    "    possible_map_df = possible_map_df.drop(field, axis='columns')\n",
    "    possible_map_df = possible_map_df.drop(index, axis='index')"
   ]
  },
  {
   "cell_type": "code",
   "execution_count": 97,
   "metadata": {},
   "outputs": [
    {
     "data": {
      "text/plain": [
       "{'type': 13,\n",
       " 'seat': 17,\n",
       " 'row': 15,\n",
       " 'price': 16,\n",
       " 'arrival location': 14,\n",
       " 'arrival platform': 18,\n",
       " 'arrival track': 2,\n",
       " 'wagon': 6,\n",
       " 'arrival station': 8,\n",
       " 'zone': 1,\n",
       " 'departure date': 3,\n",
       " 'departure track': 12,\n",
       " 'departure platform': 4,\n",
       " 'departure station': 5,\n",
       " 'departure location': 10,\n",
       " 'departure time': 0,\n",
       " 'train': 19,\n",
       " 'class': 7,\n",
       " 'duration': 11,\n",
       " 'route': 9}"
      ]
     },
     "execution_count": 97,
     "metadata": {},
     "output_type": "execute_result"
    }
   ],
   "source": [
    "solution"
   ]
  },
  {
   "cell_type": "code",
   "execution_count": 98,
   "metadata": {},
   "outputs": [
    {
     "data": {
      "text/plain": [
       "589685618167"
      ]
     },
     "execution_count": 98,
     "metadata": {},
     "output_type": "execute_result"
    }
   ],
   "source": [
    "indexes = [solution[field] for field in solution.keys() if field.startswith('departure')]\n",
    "values = [my_ticket[i] for i in indexes ] \n",
    "prod = reduce(lambda a,b:a*b, values, 1)\n",
    "prod"
   ]
  },
  {
   "cell_type": "code",
   "execution_count": null,
   "metadata": {},
   "outputs": [],
   "source": []
  }
 ],
 "metadata": {
  "kernelspec": {
   "display_name": "myenv",
   "language": "python",
   "name": "myenv"
  },
  "language_info": {
   "codemirror_mode": {
    "name": "ipython",
    "version": 3
   },
   "file_extension": ".py",
   "mimetype": "text/x-python",
   "name": "python",
   "nbconvert_exporter": "python",
   "pygments_lexer": "ipython3",
   "version": "3.8.2"
  }
 },
 "nbformat": 4,
 "nbformat_minor": 4
}
