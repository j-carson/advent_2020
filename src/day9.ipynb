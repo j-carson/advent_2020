{
 "cells": [
  {
   "cell_type": "markdown",
   "metadata": {},
   "source": [
    "# Load data"
   ]
  },
  {
   "cell_type": "code",
   "execution_count": 1,
   "metadata": {},
   "outputs": [
    {
     "data": {
      "text/plain": [
       "1000"
      ]
     },
     "execution_count": 1,
     "metadata": {},
     "output_type": "execute_result"
    }
   ],
   "source": [
    "with open(\"xmas_numbers.txt\") as fp:\n",
    "    XMAS_data = [int(i) for i in fp.read().splitlines() ]\n",
    "XMAS_count = len(XMAS_data)\n",
    "XMAS_count"
   ]
  },
  {
   "cell_type": "code",
   "execution_count": 2,
   "metadata": {},
   "outputs": [],
   "source": [
    "WINDOW_SIZE = 25"
   ]
  },
  {
   "cell_type": "markdown",
   "metadata": {},
   "source": [
    "# Question 1"
   ]
  },
  {
   "cell_type": "code",
   "execution_count": 3,
   "metadata": {},
   "outputs": [],
   "source": [
    "def window_checker(data, total):\n",
    "    window = set(data) # for faster lookups\n",
    "    for w in window:\n",
    "        diff = total - w\n",
    "        if diff in window:\n",
    "            return True\n",
    "    return False"
   ]
  },
  {
   "cell_type": "code",
   "execution_count": 4,
   "metadata": {},
   "outputs": [
    {
     "name": "stdout",
     "output_type": "stream",
     "text": [
      "177777905\n"
     ]
    }
   ],
   "source": [
    "for window_start in range(XMAS_count):\n",
    "    window = XMAS_data[window_start:window_start + WINDOW_SIZE]\n",
    "    encoded = XMAS_data[window_start + WINDOW_SIZE]\n",
    "    if not window_checker(window, encoded):\n",
    "        target_sum = encoded\n",
    "        print(encoded)\n",
    "        break"
   ]
  },
  {
   "cell_type": "code",
   "execution_count": 5,
   "metadata": {},
   "outputs": [
    {
     "data": {
      "text/plain": [
       "177777905"
      ]
     },
     "execution_count": 5,
     "metadata": {},
     "output_type": "execute_result"
    }
   ],
   "source": [
    "target_sum"
   ]
  },
  {
   "cell_type": "markdown",
   "metadata": {},
   "source": [
    "# Question 2"
   ]
  },
  {
   "cell_type": "code",
   "execution_count": 6,
   "metadata": {},
   "outputs": [],
   "source": [
    "def find_contiguous_sum(data, target):\n",
    "    \n",
    "    start = stop = 0 \n",
    "    total = data[0]\n",
    "    \n",
    "    while True:\n",
    "        while (total < target):\n",
    "            stop += 1\n",
    "            total += data[stop]\n",
    "        \n",
    "        while (total > target):\n",
    "            # if we've overshot, remove entries from beginning of range\n",
    "            total -= data[start]\n",
    "            start += 1\n",
    "            \n",
    "        if total == target:\n",
    "            if start == stop:\n",
    "                # length of returned range must be > 1\n",
    "                # if we've got a range of length 1, start over one entry further down\n",
    "                start += 1\n",
    "                stop = start\n",
    "                total = data[start]\n",
    "            else:\n",
    "                break\n",
    "            \n",
    "    return data[start:stop+1]"
   ]
  },
  {
   "cell_type": "code",
   "execution_count": 7,
   "metadata": {},
   "outputs": [],
   "source": [
    "result = find_contiguous_sum(XMAS_data, target_sum)"
   ]
  },
  {
   "cell_type": "code",
   "execution_count": 8,
   "metadata": {},
   "outputs": [
    {
     "data": {
      "text/plain": [
       "[6817951,\n",
       " 7713384,\n",
       " 11509827,\n",
       " 7749170,\n",
       " 7760870,\n",
       " 7796656,\n",
       " 8824488,\n",
       " 8860105,\n",
       " 8895891,\n",
       " 10281770,\n",
       " 12554407,\n",
       " 15536208,\n",
       " 9667607,\n",
       " 16645061,\n",
       " 13548127,\n",
       " 9923723,\n",
       " 13692660]"
      ]
     },
     "execution_count": 8,
     "metadata": {},
     "output_type": "execute_result"
    }
   ],
   "source": [
    "result"
   ]
  },
  {
   "cell_type": "code",
   "execution_count": 9,
   "metadata": {},
   "outputs": [],
   "source": [
    "assert(sum(result)) == target_sum"
   ]
  },
  {
   "cell_type": "code",
   "execution_count": 10,
   "metadata": {},
   "outputs": [
    {
     "data": {
      "text/plain": [
       "23463012"
      ]
     },
     "execution_count": 10,
     "metadata": {},
     "output_type": "execute_result"
    }
   ],
   "source": [
    "min(result) + max(result)"
   ]
  },
  {
   "cell_type": "code",
   "execution_count": null,
   "metadata": {},
   "outputs": [],
   "source": []
  }
 ],
 "metadata": {
  "kernelspec": {
   "display_name": "myenv",
   "language": "python",
   "name": "myenv"
  },
  "language_info": {
   "codemirror_mode": {
    "name": "ipython",
    "version": 3
   },
   "file_extension": ".py",
   "mimetype": "text/x-python",
   "name": "python",
   "nbconvert_exporter": "python",
   "pygments_lexer": "ipython3",
   "version": "3.8.2"
  }
 },
 "nbformat": 4,
 "nbformat_minor": 4
}
