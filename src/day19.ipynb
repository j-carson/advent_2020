{
 "cells": [
  {
   "cell_type": "code",
   "execution_count": 1,
   "metadata": {},
   "outputs": [],
   "source": [
    "from pathlib import Path\n",
    "from ast import literal_eval\n",
    "from collections import  namedtuple\n",
    "from itertools import product, takewhile\n",
    "from tqdm import tqdm\n",
    "import re"
   ]
  },
  {
   "cell_type": "code",
   "execution_count": 2,
   "metadata": {},
   "outputs": [],
   "source": [
    "# Token types\n",
    "Choice = namedtuple(\"Choice\", \"s\")\n",
    "Sequence = namedtuple(\"Sequence\", \"s\")\n",
    "Constant = namedtuple(\"Constant\", \"s\")\n",
    "SubRule = namedtuple(\"SubRule\", \"s\")\n",
    "\n",
    "def read_rules(text_rules, problem=1):\n",
    "    \n",
    "    patterns = {}\n",
    "    unsolved = {}\n",
    "    PROBLEM2_RULEIDS = (8,11)\n",
    "    \n",
    "    def make_sequence(chunk):\n",
    "        \"A sequence of one item is collapsed to a sub-rule\"\n",
    "        words = chunk.split()\n",
    "        if len(words) == 1:\n",
    "            return SubRule(int(words[0]))\n",
    "        else:\n",
    "            return Sequence([SubRule(int(w)) for w in words])\n",
    "    \n",
    "    for line in text_rules.splitlines():\n",
    "        ruleid, ruledata = line.split(\":\")\n",
    "        ruleid = int(ruleid)\n",
    "        \n",
    "        if (problem == 2) and (ruleid in PROBLEM2_RULEIDS):\n",
    "            continue\n",
    "        \n",
    "        if '\"' in ruledata:\n",
    "            patterns[ruleid] = Constant(literal_eval(ruledata.strip()))\n",
    "            \n",
    "        elif \"|\" in ruledata:\n",
    "            chunks = ruledata.split(\"|\")\n",
    "            subrules = [ make_sequence(chunk) for chunk in chunks ] \n",
    "            unsolved[ruleid] = Choice(subrules)\n",
    "            \n",
    "        else: \n",
    "            unsolved[ruleid] = make_sequence(ruledata)\n",
    "            \n",
    "    if problem == 2:\n",
    "        # stash the simplified (exactly one repeat) versions of the rules for now\n",
    "        unsolved[8] = SubRule(42)\n",
    "        unsolved[11] = Sequence([SubRule(42), SubRule(31)])\n",
    "            \n",
    "    def resolver(item):\n",
    "        if type(item) is Constant:\n",
    "            return item\n",
    "        elif type(item) is Sequence:\n",
    "            assert len(item.s) > 1\n",
    "            return Sequence([resolver(ii) for ii in item.s])\n",
    "        elif type(item) is Choice:\n",
    "            assert len(item.s) == 2\n",
    "            return Choice([resolver(ii) for ii in item.s])\n",
    "        elif type(item) is SubRule:\n",
    "            return patterns[item.s]\n",
    "        else:\n",
    "            raise TypeError(f\"What the heck??? {item} {type(item)}\")\n",
    "    \n",
    "    while len(unsolved):\n",
    "        for key, value in unsolved.copy().items():\n",
    "            try:\n",
    "                if type(value) is SubRule:\n",
    "                    patterns[key] = resolver(patterns[value.s])\n",
    "                else:\n",
    "                    patterns[key] = resolver(value)\n",
    "                unsolved.pop(key)\n",
    "            except KeyError:\n",
    "                    pass\n",
    "                \n",
    "    return patterns\n",
    "\n",
    "def yield_pattern(rule):\n",
    "    if type(rule) is Constant:\n",
    "        yield rule.s\n",
    "        \n",
    "    elif type(rule) is Choice:\n",
    "        yield from yield_pattern(rule.s[0])\n",
    "        yield from yield_pattern(rule.s[1])\n",
    "        \n",
    "    elif type(rule) is Sequence:\n",
    "        iterators = (yield_pattern(item) for item in rule.s)\n",
    "        for parts in product(*iterators):\n",
    "            yield \"\".join(parts)\n",
    "        \n",
    "    else:\n",
    "        raise ValueError(\"Huh, interesting\")"
   ]
  },
  {
   "cell_type": "markdown",
   "metadata": {},
   "source": [
    "# Problem 1"
   ]
  },
  {
   "cell_type": "code",
   "execution_count": 3,
   "metadata": {},
   "outputs": [
    {
     "data": {
      "text/plain": [
       "222"
      ]
     },
     "execution_count": 3,
     "metadata": {},
     "output_type": "execute_result"
    }
   ],
   "source": [
    "data = Path(\"rules.txt\").read_text()\n",
    "ruledata, imagedata = data.split(\"\\n\\n\")\n",
    "my_rules = read_rules(ruledata)\n",
    "valid_patterns = set(yield_pattern(my_rules[0]))\n",
    "\n",
    "match = sum([line in valid_patterns for line in imagedata.splitlines() ])\n",
    "match"
   ]
  },
  {
   "cell_type": "markdown",
   "metadata": {},
   "source": [
    "# Problem 2\n",
    "\n",
    "Completely replace rules 8: 42 and 11: 42 31 with the following:\n",
    "\n",
    "```\n",
    "8: 42 | 42 8\n",
    "11: 42 31 | 42 11 31\n",
    "```\n",
    "\n",
    "This small change has a big impact: now, the rules do contain loops, and the list of messages they could hypothetically match is infinite. \n",
    "Fortunately, many of the rules are unaffected by this change; it might help to start by looking at which rules always match the same set of values and how those rules (especially rules 42 and 31) are used by the new versions of rules 8 and 11.\n",
    "\n",
    "(Remember, you only need to handle the rules you have; building a solution that could handle any hypothetical combination of rules would be significantly more difficult.)\n",
    "\n",
    "## My approach\n",
    "\n",
    "So,  both rule 42 and rule 31 are going to match 8 character sequences, and the sequences in each rule 42 and 31 do not overlap.\n",
    "\n",
    "The matching sequences should be a sequence of 8 character chunks in set 42, followed by a sequence of 8 character chunks \n",
    "in set 31. There need to be more set 42 entries than set 31 entries. (For rule 11, the number of 42's must equal the number of 31's; for\n",
    "rule 8, there are 1 or more 42's.)\n"
   ]
  },
  {
   "cell_type": "code",
   "execution_count": 4,
   "metadata": {},
   "outputs": [
    {
     "name": "stdout",
     "output_type": "stream",
     "text": [
      "{8} {8}\n",
      "set()\n"
     ]
    }
   ],
   "source": [
    "my_rules = read_rules(ruledata, problem=2)\n",
    "\n",
    "set_42 = set(yield_pattern(my_rules[42]))\n",
    "set_31 = set(yield_pattern(my_rules[31]))\n",
    "\n",
    "print( set([len(x) for x in set_42]), set([len(x) for x in set_31]))\n",
    "print( set_42.intersection(set_31))"
   ]
  },
  {
   "cell_type": "code",
   "execution_count": 5,
   "metadata": {},
   "outputs": [
    {
     "data": {
      "text/plain": [
       "339"
      ]
     },
     "execution_count": 5,
     "metadata": {},
     "output_type": "execute_result"
    }
   ],
   "source": [
    "match = 0\n",
    "chunksize = 8\n",
    "\n",
    "for line in imagedata.splitlines():\n",
    "    if len(line) % chunksize != 0:\n",
    "        continue\n",
    "    \n",
    "    # state machine states named after the set we're searching for,\n",
    "    # or -1 for \"never gonna match now\"\n",
    "    state = 42\n",
    "    count_42 = 0\n",
    "    count_31 = 0\n",
    "    \n",
    "    chunks = [line[i:i+chunksize] for i in range(0,len(line),chunksize)]\n",
    "    for chunk in chunks:\n",
    "        if state == 42:\n",
    "            if chunk in set_42:\n",
    "                count_42 += 1\n",
    "            elif chunk in set_31:\n",
    "                state = 31\n",
    "                count_31 += 1\n",
    "            else:\n",
    "                state = -1 # nomatch flag\n",
    "        elif state == 31:\n",
    "            if chunk in set_31:\n",
    "                count_31 += 1\n",
    "            else:\n",
    "                state = -1\n",
    "    if (state == 31) and (count_42 > count_31):\n",
    "        match += 1\n",
    "        \n",
    "    \n",
    "match"
   ]
  },
  {
   "cell_type": "code",
   "execution_count": 6,
   "metadata": {},
   "outputs": [
    {
     "name": "stdout",
     "output_type": "stream",
     "text": [
      "['aaaabb', 'aaabab', 'abbabb', 'abbbab', 'aabaab', 'aabbbb', 'abaaab', 'ababbb']\n"
     ]
    },
    {
     "data": {
      "text/plain": [
       "2"
      ]
     },
     "execution_count": 6,
     "metadata": {},
     "output_type": "execute_result"
    }
   ],
   "source": [
    "# Test for part 1\n",
    "\n",
    "example_rules = '''0: 4 1 5\n",
    "1: 2 3 | 3 2\n",
    "2: 4 4 | 5 5\n",
    "3: 4 5 | 5 4\n",
    "4: \"a\"\n",
    "5: \"b\"'''\n",
    "example_data = '''ababbb\n",
    "bababa\n",
    "abbbab\n",
    "aaabbb\n",
    "aaaabbb'''\n",
    "\n",
    "example_rules = read_rules(example_rules)\n",
    "matching_patterns = list(yield_pattern(example_rules[0]))\n",
    "print(matching_patterns) # should be 8 in the toy example\n",
    "\n",
    "test = 0\n",
    "for line in example_data.splitlines():\n",
    "    for pat in matching_patterns:\n",
    "        if line == pat:\n",
    "            test += 1\n",
    "test"
   ]
  }
 ],
 "metadata": {
  "kernelspec": {
   "display_name": "myenv",
   "language": "python",
   "name": "myenv"
  },
  "language_info": {
   "codemirror_mode": {
    "name": "ipython",
    "version": 3
   },
   "file_extension": ".py",
   "mimetype": "text/x-python",
   "name": "python",
   "nbconvert_exporter": "python",
   "pygments_lexer": "ipython3",
   "version": "3.8.2"
  }
 },
 "nbformat": 4,
 "nbformat_minor": 4
}
