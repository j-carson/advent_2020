{
 "cells": [
  {
   "cell_type": "code",
   "execution_count": 1,
   "metadata": {},
   "outputs": [],
   "source": [
    "class BitMask:\n",
    "    def __init__(self):\n",
    "        self.masked = {}\n",
    "        \n",
    "    def update(self, rep):\n",
    "        self.masked = {}\n",
    "        for i,ch in enumerate(reversed(rep)):\n",
    "            if ch != 'X':\n",
    "                self.masked[i] = ch\n",
    "                \n",
    "    @staticmethod\n",
    "    def zeropad(value, places):\n",
    "        zeros = \"0\" * places\n",
    "        return (zeros + (bin(value)[2:]))[-places:]\n",
    "        \n",
    "                \n",
    "    def apply(self, value):\n",
    "        bin_string = self.zeropad(value, 36)\n",
    "        \n",
    "        result = []\n",
    "        for i,ch in enumerate(reversed(bin_string)):\n",
    "            if i in self.masked.keys():\n",
    "                result.append(self.masked[i])\n",
    "            else:\n",
    "                result.append(ch)\n",
    "                \n",
    "        bin_data = '0b' + \"\".join(reversed(result))\n",
    "        return int(bin_data, 2)\n",
    "    \n",
    "    def apply_v2(self, value):\n",
    "        \"\"\"\n",
    "        If the bitmask bit is 0, the corresponding memory address bit is unchanged.\n",
    "        If the bitmask bit is 1, the corresponding memory address bit is overwritten with 1.\n",
    "        If the bitmask bit is X, the corresponding memory address bit is floating.\n",
    "        \"\"\"\n",
    "        bin_string = self.zeropad(value, 36)\n",
    "        result = []\n",
    "        X_count = 0\n",
    "        for i, ch in enumerate(reversed(bin_string)):\n",
    "            if i in self.masked.keys():\n",
    "                if self.masked[i] == '1':\n",
    "                    result.append('1')\n",
    "                else:\n",
    "                    result.append(ch)\n",
    "            else: # didn't save the X's in p1\n",
    "                result.append('X')\n",
    "                X_count += 1\n",
    "                \n",
    "                \n",
    "        num_values = 2**X_count \n",
    "        values = []\n",
    "        for i in range(num_values):\n",
    "            value = []\n",
    "            replace_index = 0\n",
    "            replacements = self.zeropad(i, X_count)\n",
    "            \n",
    "            for ch in result:\n",
    "                if ch != 'X':\n",
    "                    value.append(ch)\n",
    "                else:\n",
    "                    value.append(replacements[replace_index])\n",
    "                    replace_index += 1\n",
    "            value_data = \"0b\" + \"\".join(reversed(value))\n",
    "            values.append(int(value_data, 2))\n",
    "            \n",
    "        return values"
   ]
  },
  {
   "cell_type": "code",
   "execution_count": 2,
   "metadata": {},
   "outputs": [],
   "source": [
    "with open('masks.txt') as fp:\n",
    "    data = fp.read().splitlines()\n",
    "    "
   ]
  },
  {
   "cell_type": "markdown",
   "metadata": {},
   "source": [
    "# Problem 1"
   ]
  },
  {
   "cell_type": "code",
   "execution_count": 3,
   "metadata": {},
   "outputs": [
    {
     "data": {
      "text/plain": [
       "15018100062885"
      ]
     },
     "execution_count": 3,
     "metadata": {},
     "output_type": "execute_result"
    }
   ],
   "source": [
    "test_data = \"\"\"mask = XXXXXXXXXXXXXXXXXXXXXXXXXXXXX1XXXX0X\n",
    "mem[8] = 11\n",
    "mem[7] = 101\n",
    "mem[8] = 0\"\"\".splitlines()\n",
    "\n",
    "cur_mask = BitMask()\n",
    "memory = dict()\n",
    "\n",
    "for line in data:\n",
    "    parts = line.split()\n",
    "    if parts[0] == 'mask':\n",
    "        cur_mask.update(parts[2])\n",
    "    else:\n",
    "        address = int(parts[0][4:-1])\n",
    "        value = int(parts[2])\n",
    "        memory[address] = cur_mask.apply(value)\n",
    "\n",
    "sum(memory.values())"
   ]
  },
  {
   "cell_type": "markdown",
   "metadata": {},
   "source": [
    "# Problem 2"
   ]
  },
  {
   "cell_type": "code",
   "execution_count": 4,
   "metadata": {},
   "outputs": [
    {
     "data": {
      "text/plain": [
       "5724245857696"
      ]
     },
     "execution_count": 4,
     "metadata": {},
     "output_type": "execute_result"
    }
   ],
   "source": [
    "test_data = \"\"\"mask = 000000000000000000000000000000X1001X\n",
    "mem[42] = 100\n",
    "mask = 00000000000000000000000000000000X0XX\n",
    "mem[26] = 1\"\"\".splitlines()   \n",
    "\n",
    "cur_mask = BitMask()\n",
    "memory = dict()\n",
    "\n",
    "for line in data:\n",
    "    parts = line.split()\n",
    "    if parts[0] == 'mask':\n",
    "        cur_mask.update(parts[2])\n",
    "    else:\n",
    "        value = int(parts[2])\n",
    "        address = int(parts[0][4:-1])\n",
    "        masked_addresses = cur_mask.apply_v2(address)\n",
    "        for ad in masked_addresses:\n",
    "            memory[ad] = value\n",
    "\n",
    "sum(memory.values())"
   ]
  },
  {
   "cell_type": "code",
   "execution_count": null,
   "metadata": {},
   "outputs": [],
   "source": []
  }
 ],
 "metadata": {
  "kernelspec": {
   "display_name": "myenv",
   "language": "python",
   "name": "myenv"
  },
  "language_info": {
   "codemirror_mode": {
    "name": "ipython",
    "version": 3
   },
   "file_extension": ".py",
   "mimetype": "text/x-python",
   "name": "python",
   "nbconvert_exporter": "python",
   "pygments_lexer": "ipython3",
   "version": "3.8.2"
  }
 },
 "nbformat": 4,
 "nbformat_minor": 4
}
