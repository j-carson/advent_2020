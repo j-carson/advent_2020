{
 "cells": [
  {
   "cell_type": "code",
   "execution_count": 1,
   "metadata": {},
   "outputs": [],
   "source": [
    "import pandas as pd"
   ]
  },
  {
   "cell_type": "code",
   "execution_count": 2,
   "metadata": {},
   "outputs": [
    {
     "data": {
      "text/plain": [
       "1848"
      ]
     },
     "execution_count": 2,
     "metadata": {},
     "output_type": "execute_result"
    }
   ],
   "source": [
    "with open('jolts.txt') as fp:\n",
    "    jolts = sorted([ int(j) for j in fp.read().splitlines() ])\n",
    "\n",
    "steps = pd.Series([0] + jolts + [jolts[-1] + 3]).diff().value_counts()\n",
    "steps[1] * steps[3]"
   ]
  },
  {
   "cell_type": "code",
   "execution_count": 3,
   "metadata": {},
   "outputs": [],
   "source": [
    "jolt_set = set([0] + jolts + [jolts[-1] + 3])\n",
    "\n",
    "data = pd.Series([0] + jolts + [jolts[-1] + 3], name='jolts').to_frame()\n",
    "# it's legal to go one, two, or three jolts up\n",
    "data['legal_jumps'] = data.jolts.apply(lambda s: (s+1, s+2, s+3))\n",
    "# but those legal jumps might not be in my bag\n",
    "data['jump_exists'] = data.legal_jumps.apply(lambda jumps: [j for j in jumps if j in jolt_set])\n",
    "\n",
    "data['path_count'] = -1\n",
    "\n",
    "# a way to look up the jolt value to the row in the data table\n",
    "reverse_lookup = pd.Series(index = data.jolts.values, data = data.jolts.index )"
   ]
  },
  {
   "cell_type": "code",
   "execution_count": 4,
   "metadata": {},
   "outputs": [
    {
     "data": {
      "text/plain": [
       "8099130339328"
      ]
     },
     "execution_count": 4,
     "metadata": {},
     "output_type": "execute_result"
    }
   ],
   "source": [
    "# solved the last three by hand\n",
    "data.loc[94, 'path_count']  = 0 \n",
    "data.loc[93, 'path_count']  = 1 \n",
    "data.loc[92, 'path_count']  = 1 \n",
    "\n",
    "# Used those to build up the rest of the rows\n",
    "for index in reversed(data.index):\n",
    "    if data.loc[index, 'path_count'] == -1:\n",
    "        path_count = 0\n",
    "        for ex in data.loc[index, 'jump_exists']:\n",
    "            reverse = reverse_lookup[ex]\n",
    "            path_count += data.loc[reverse, 'path_count']\n",
    "        data.loc[index, 'path_count'] = path_count\n",
    "        \n",
    "data.loc[0, 'path_count']"
   ]
  },
  {
   "cell_type": "code",
   "execution_count": null,
   "metadata": {},
   "outputs": [],
   "source": []
  }
 ],
 "metadata": {
  "kernelspec": {
   "display_name": "myenv",
   "language": "python",
   "name": "myenv"
  },
  "language_info": {
   "codemirror_mode": {
    "name": "ipython",
    "version": 3
   },
   "file_extension": ".py",
   "mimetype": "text/x-python",
   "name": "python",
   "nbconvert_exporter": "python",
   "pygments_lexer": "ipython3",
   "version": "3.8.2"
  }
 },
 "nbformat": 4,
 "nbformat_minor": 4
}
