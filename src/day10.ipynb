{
 "cells": [
  {
   "cell_type": "code",
   "execution_count": 1,
   "metadata": {},
   "outputs": [],
   "source": [
    "import pandas as pd\n",
    "from functools import partial\n",
    "\n",
    "from IPython.display import display,Markdown"
   ]
  },
  {
   "cell_type": "markdown",
   "metadata": {},
   "source": [
    "# Load data\n",
    "\n",
    "Adapters can only be applied in order from lowest to highest jolts,\n",
    "so we're sorting here, too."
   ]
  },
  {
   "cell_type": "code",
   "execution_count": 2,
   "metadata": {},
   "outputs": [],
   "source": [
    "with open('jolts.txt') as fp:\n",
    "    jolts = sorted([ int(j) for j in fp.read().splitlines() ])"
   ]
  },
  {
   "cell_type": "markdown",
   "metadata": {},
   "source": [
    "# Question 1\n",
    "\n",
    "If we're using all the adapters, then the sorted order is the order we \n",
    "use them in. Just need to add begining and ending values, compute differences\n",
    "and count them. This is a one-liner in pandas."
   ]
  },
  {
   "cell_type": "code",
   "execution_count": 3,
   "metadata": {},
   "outputs": [
    {
     "data": {
      "text/plain": [
       "1848"
      ]
     },
     "execution_count": 3,
     "metadata": {},
     "output_type": "execute_result"
    }
   ],
   "source": [
    "steps = pd.Series([0] + jolts + [jolts[-1] + 3]).diff().value_counts()\n",
    "steps[1] * steps[3]"
   ]
  },
  {
   "cell_type": "markdown",
   "metadata": {},
   "source": [
    "# Question 2\n",
    "\n",
    "After trying something that didn't work, I went back to pandas. The\n",
    "table I'm creating here has three columns: \n",
    "\n",
    "* \"jolts\" is my list of adapters\n",
    "* \"jump_exists\" is a list of next adapter jumps that I can do, given my specific bag of adapters\n",
    "* \"path_count\" will be my count of paths from this row of the table to the max jolt value. It's \n",
    "  starting life as an empty column here.\n",
    "\n",
    "I also created a reverse_lookup series for given a jolt value, find the row index in the \n",
    "above dataframe, because I'm going to have to do that a lot."
   ]
  },
  {
   "cell_type": "code",
   "execution_count": 4,
   "metadata": {},
   "outputs": [
    {
     "data": {
      "text/markdown": [
       "|    |   jolts | jump_exists   | path_count   |\n",
       "|---:|--------:|:--------------|:-------------|\n",
       "|  0 |       0 | [1, 2, 3]     | <NA>         |\n",
       "|  1 |       1 | [2, 3, 4]     | <NA>         |\n",
       "|  2 |       2 | [3, 4]        | <NA>         |\n",
       "|  3 |       3 | [4]           | <NA>         |\n",
       "|  4 |       4 | [7]           | <NA>         |\n",
       "|  5 |       7 | [10]          | <NA>         |\n",
       "|  6 |      10 | [11, 12, 13]  | <NA>         |\n",
       "|  7 |      11 | [12, 13]      | <NA>         |\n",
       "|  8 |      12 | [13]          | <NA>         |\n",
       "|  9 |      13 | [16]          | <NA>         |"
      ],
      "text/plain": [
       "<IPython.core.display.Markdown object>"
      ]
     },
     "metadata": {},
     "output_type": "display_data"
    }
   ],
   "source": [
    "def next_jumps(jolt, jolt_set):\n",
    "    # legally, can jump 1, 2, or 3 jolts\n",
    "    legal_jumps = [jolt + i for i in range(1,4)]\n",
    "    # but maybe not all of them are in my bag of adapters\n",
    "    jump_exists = [i for i in legal_jumps if i in jolt_set]\n",
    "    return jump_exists\n",
    "\n",
    "data = pd.Series([0] + jolts + [jolts[-1] + 3], name='jolts').to_frame()\n",
    "\n",
    "jolt_set = set(data.jolts)\n",
    "data['jump_exists'] = data.jolts.apply(partial(next_jumps, jolt_set=jolt_set))\n",
    "\n",
    "data['path_count'] = pd.NA\n",
    "\n",
    "# a way to look up the jolt value to the row in the data table\n",
    "reverse_lookup = pd.Series(index = data.jolts.values, data = data.jolts.index )\n",
    "\n",
    "# Here's peek at the data table\n",
    "display(Markdown(data.head(10).to_markdown()))"
   ]
  },
  {
   "cell_type": "markdown",
   "metadata": {},
   "source": [
    "We're going to work the problem from the bottom up -- the number of future paths that exist at \n",
    "row j are the sum of the counts of future paths for each of the \"next jumps\" available.\n",
    "\n",
    "So, we need to seed the bottom of the table with their jump counts. Since we are looking at a maximum\n",
    "of three legal jumps forward at row j, seeding the bottom three rows will do it. \n",
    "\n",
    "Assuming valid input,\n",
    "* From the last row, there is nowhere to jump, path_count = 0\n",
    "* From the second to last row, there is only one place to jump, path_count = 1\n",
    "* From the third to last row, could possibly jump to either or both of those, and we'll know by the length of the legal jump array."
   ]
  },
  {
   "cell_type": "code",
   "execution_count": 5,
   "metadata": {},
   "outputs": [
    {
     "data": {
      "text/markdown": [
       "|    |   jolts | jump_exists     | path_count   |\n",
       "|---:|--------:|:----------------|:-------------|\n",
       "| 90 |     144 | [145, 146, 147] | <NA>         |\n",
       "| 91 |     145 | [146, 147]      | <NA>         |\n",
       "| 92 |     146 | [147]           | 1            |\n",
       "| 93 |     147 | [150]           | 1            |\n",
       "| 94 |     150 | []              | 0            |"
      ],
      "text/plain": [
       "<IPython.core.display.Markdown object>"
      ]
     },
     "metadata": {},
     "output_type": "display_data"
    }
   ],
   "source": [
    "last_index = data.index.max()\n",
    "data.at[last_index, 'path_count']  = 0 \n",
    "data.at[last_index - 1, 'path_count']  = 1  \n",
    "data.at[last_index - 2, 'path_count']  = len(data.at[last_index -2 , 'jump_exists'])  \n",
    "\n",
    "display(Markdown(data.tail(5).to_markdown()))"
   ]
  },
  {
   "cell_type": "markdown",
   "metadata": {},
   "source": [
    "In the above table, row 91 will be filled with the sum of the path_count values from the \n",
    "jump_exists values of 146 and 147. Reverse_lookup of 146 takes you\n",
    "to row 92, and the count is 1. Reverse lookup of 147 takes you to row 93, and that count is also 1."
   ]
  },
  {
   "cell_type": "code",
   "execution_count": 6,
   "metadata": {},
   "outputs": [
    {
     "data": {
      "text/markdown": [
       "|    |   jolts | jump_exists     |   path_count |\n",
       "|---:|--------:|:----------------|-------------:|\n",
       "| 75 |     117 | [118]           |          112 |\n",
       "| 76 |     118 | [121]           |          112 |\n",
       "| 77 |     121 | [124]           |          112 |\n",
       "| 78 |     124 | [125, 126]      |          112 |\n",
       "| 79 |     125 | [126]           |           56 |\n",
       "| 80 |     126 | [129]           |           56 |\n",
       "| 81 |     129 | [132]           |           56 |\n",
       "| 82 |     132 | [133, 134, 135] |           56 |\n",
       "| 83 |     133 | [134, 135]      |           28 |\n",
       "| 84 |     134 | [135]           |           14 |\n",
       "| 85 |     135 | [138]           |           14 |\n",
       "| 86 |     138 | [139, 140]      |           14 |\n",
       "| 87 |     139 | [140]           |            7 |\n",
       "| 88 |     140 | [143]           |            7 |\n",
       "| 89 |     143 | [144, 145, 146] |            7 |\n",
       "| 90 |     144 | [145, 146, 147] |            4 |\n",
       "| 91 |     145 | [146, 147]      |            2 |\n",
       "| 92 |     146 | [147]           |            1 |\n",
       "| 93 |     147 | [150]           |            1 |\n",
       "| 94 |     150 | []              |            0 |"
      ],
      "text/plain": [
       "<IPython.core.display.Markdown object>"
      ]
     },
     "metadata": {},
     "output_type": "display_data"
    }
   ],
   "source": [
    "unfilled_rows = reversed(range(0, last_index-2))\n",
    "for index in unfilled_rows:\n",
    "    path_count = 0\n",
    "    for ex in data.at[index, 'jump_exists']:\n",
    "        row_num = reverse_lookup[ex]\n",
    "        path_count += data.at[row_num, 'path_count']\n",
    "    data.at[index, 'path_count'] = path_count\n",
    "        \n",
    "# and another look at the data\n",
    "display(Markdown(data.tail(20).to_markdown()))"
   ]
  },
  {
   "cell_type": "code",
   "execution_count": 7,
   "metadata": {},
   "outputs": [
    {
     "data": {
      "text/markdown": [
       "|    |   jolts | jump_exists   |    path_count |\n",
       "|---:|--------:|:--------------|--------------:|\n",
       "|  0 |       0 | [1, 2, 3]     | 8099130339328 |\n",
       "|  1 |       1 | [2, 3, 4]     | 4628074479616 |\n",
       "|  2 |       2 | [3, 4]        | 2314037239808 |\n",
       "|  3 |       3 | [4]           | 1157018619904 |\n",
       "|  4 |       4 | [7]           | 1157018619904 |"
      ],
      "text/plain": [
       "<IPython.core.display.Markdown object>"
      ]
     },
     "metadata": {},
     "output_type": "display_data"
    },
    {
     "data": {
      "text/plain": [
       "8099130339328"
      ]
     },
     "execution_count": 7,
     "metadata": {},
     "output_type": "execute_result"
    }
   ],
   "source": [
    "# and the answer we want is at the top of the table \n",
    "display(Markdown(data.head().to_markdown()))\n",
    "data.at[0, 'path_count']"
   ]
  },
  {
   "cell_type": "code",
   "execution_count": null,
   "metadata": {},
   "outputs": [],
   "source": []
  }
 ],
 "metadata": {
  "kernelspec": {
   "display_name": "myenv",
   "language": "python",
   "name": "myenv"
  },
  "language_info": {
   "codemirror_mode": {
    "name": "ipython",
    "version": 3
   },
   "file_extension": ".py",
   "mimetype": "text/x-python",
   "name": "python",
   "nbconvert_exporter": "python",
   "pygments_lexer": "ipython3",
   "version": "3.8.2"
  }
 },
 "nbformat": 4,
 "nbformat_minor": 4
}
