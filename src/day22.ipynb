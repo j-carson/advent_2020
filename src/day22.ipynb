{
 "cells": [
  {
   "cell_type": "code",
   "execution_count": 1,
   "metadata": {},
   "outputs": [],
   "source": [
    "my_input = \"\"\"Player 1:\n",
    "14\n",
    "29\n",
    "25\n",
    "17\n",
    "13\n",
    "50\n",
    "33\n",
    "32\n",
    "7\n",
    "37\n",
    "26\n",
    "34\n",
    "46\n",
    "24\n",
    "3\n",
    "28\n",
    "18\n",
    "20\n",
    "11\n",
    "1\n",
    "21\n",
    "8\n",
    "44\n",
    "10\n",
    "22\n",
    "\n",
    "Player 2:\n",
    "5\n",
    "38\n",
    "27\n",
    "15\n",
    "45\n",
    "40\n",
    "43\n",
    "30\n",
    "35\n",
    "9\n",
    "48\n",
    "12\n",
    "16\n",
    "47\n",
    "42\n",
    "4\n",
    "2\n",
    "31\n",
    "41\n",
    "39\n",
    "23\n",
    "19\n",
    "36\n",
    "49\n",
    "6\n",
    "\"\"\"\n",
    "\n",
    "test_input=\"\"\"Player 1:\n",
    "9\n",
    "2\n",
    "6\n",
    "3\n",
    "1\n",
    "\n",
    "Player 2:\n",
    "5\n",
    "8\n",
    "4\n",
    "7\n",
    "10\"\"\""
   ]
  },
  {
   "cell_type": "code",
   "execution_count": 2,
   "metadata": {},
   "outputs": [],
   "source": [
    "from collections import deque\n",
    "class Combat:\n",
    "    def __init__(self, hand1, hand2):\n",
    "        self.rounds = 0\n",
    "        self.player1 = deque(hand1)\n",
    "        self.player2 = deque(hand2)\n",
    "        \n",
    "    def play1(self):\n",
    "        card1 = self.player1.popleft()\n",
    "        card2 = self.player2.popleft()\n",
    "        \n",
    "        if card1 > card2:\n",
    "            winner = self.player1\n",
    "            card_order = (card1, card2)\n",
    "        else:\n",
    "            winner = self.player2\n",
    "            card_order = (card2, card1)\n",
    "            \n",
    "        winner.append(card_order[0])\n",
    "        winner.append(card_order[1])\n",
    "        \n",
    "        self.rounds += 1\n",
    "        \n",
    "    def play_to_end(self):\n",
    "        while (len(self.player1) > 0) and (len(self.player2) > 0):\n",
    "            self.play1()\n",
    "            \n",
    "    def score(self):\n",
    "        if len(self.player1) > 0:\n",
    "            winner = self.player1\n",
    "        else:\n",
    "            winner = self.player2\n",
    "            \n",
    "        total = 0\n",
    "        for i in range(len(winner)):\n",
    "            multiplier = i+1\n",
    "            index = -(i+1)\n",
    "            total += winner[index] * multiplier\n",
    "        return total\n",
    "            \n",
    "            \n",
    "            "
   ]
  },
  {
   "cell_type": "code",
   "execution_count": 3,
   "metadata": {},
   "outputs": [],
   "source": [
    "data = {}\n",
    "for player_id, player in enumerate(my_input.split(\"\\n\\n\")):\n",
    "    lines = player.splitlines()\n",
    "    player_id = int(lines[0].split()[1][:-1])\n",
    "    cards = [ int(card) for card in lines[1:]]\n",
    "    data[player_id] = cards\n",
    "combat = Combat(data[1], data[2])\n",
    "combat.play_to_end()"
   ]
  },
  {
   "cell_type": "code",
   "execution_count": 4,
   "metadata": {},
   "outputs": [
    {
     "data": {
      "text/plain": [
       "1015"
      ]
     },
     "execution_count": 4,
     "metadata": {},
     "output_type": "execute_result"
    }
   ],
   "source": [
    "combat.rounds"
   ]
  },
  {
   "cell_type": "code",
   "execution_count": 5,
   "metadata": {},
   "outputs": [
    {
     "data": {
      "text/plain": [
       "34324"
      ]
     },
     "execution_count": 5,
     "metadata": {},
     "output_type": "execute_result"
    }
   ],
   "source": [
    "combat.score()"
   ]
  },
  {
   "cell_type": "markdown",
   "metadata": {},
   "source": [
    "# Problem 2\n",
    "\n",
    "Recursive Combat still starts by splitting the cards into two decks. Then, the game consists of a series of rounds with a few changes:\n",
    "\n",
    " - Before either player deals a card, if there was a previous round in this game that had exactly the same cards in the same order in the same players' decks, the game instantly ends in a win for player 1. Previous rounds from other games are not considered. (This prevents infinite games of Recursive Combat, which everyone agrees is a bad idea.)\n",
    " - Otherwise, this round's cards must be in a new configuration; the players begin the round by each drawing the top card of their deck as normal.\n",
    " - If both players have at least as many cards remaining in their deck as the value of the card they just drew, the winner of the round is determined by playing a new game of Recursive Combat (see below).\n",
    " - Otherwise, at least one player must not have enough cards left in their deck to recurse; the winner of the round is the player with the higher-value card.\n",
    "\n",
    "As in regular Combat, the winner of the round (even if they won the round by winning a sub-game) takes the two cards dealt at the beginning of the round and places them on the bottom of their own deck (again so that the winner's card is above the other card). Note that the winner's card might be the lower-valued of the two cards if they won the round due to winning a sub-game. If collecting cards by winning the round causes a player to have all of the cards, they win, and the game ends."
   ]
  },
  {
   "cell_type": "code",
   "execution_count": 6,
   "metadata": {},
   "outputs": [],
   "source": [
    "class CursedCombat:\n",
    "    def __init__(self, hand1, hand2):\n",
    "        self.rounds = 0\n",
    "        self.player1 = deque(hand1)\n",
    "        self.player2 = deque(hand2)\n",
    "        self.cursedConfigs = set()\n",
    "        self.gameOver = False\n",
    "        \n",
    "    def checkCurse(self):\n",
    "        config = (tuple(self.player1), tuple(self.player2))\n",
    "        if self.gameOver or (config in self.cursedConfigs):\n",
    "            self.gameOver = True\n",
    "            return True # we are cursed\n",
    "        self.cursedConfigs.add(config)\n",
    "        return False\n",
    "        \n",
    "    def play1(self):\n",
    "        if not self.checkCurse():\n",
    "            card1 = self.player1.popleft()\n",
    "            card2 = self.player2.popleft()\n",
    "            \n",
    "            if ((card1 <= len(self.player1)) \n",
    "            and (card2 <= len(self.player2))):\n",
    "                recursed_combat = CursedCombat(list(self.player1)[:card1], \n",
    "                                               list(self.player2)[:card2]).play_to_end()\n",
    "                if recursed_combat.winner() == 1:\n",
    "                    winner = self.player1\n",
    "                    card_order = (card1, card2)\n",
    "                else:\n",
    "                    winner = self.player2\n",
    "                    card_order = (card2, card1)\n",
    "                \n",
    "            else:\n",
    "                if card1 > card2:\n",
    "                    winner = self.player1\n",
    "                    card_order = (card1, card2)\n",
    "                else:\n",
    "                    winner = self.player2\n",
    "                    card_order = (card2, card1)\n",
    "            \n",
    "            winner.append(card_order[0])\n",
    "            winner.append(card_order[1])\n",
    "        \n",
    "            self.rounds += 1\n",
    "            \n",
    "        \n",
    "    def play_to_end(self):\n",
    "        while ((not self.gameOver) \n",
    "               and (len(self.player1) > 0) \n",
    "               and (len(self.player2) > 0)):\n",
    "            self.play1()\n",
    "        return self\n",
    "            \n",
    "    def score(self):\n",
    "        if self.gameOver or (len(self.player1) > 0):\n",
    "            winner = self.player1\n",
    "        else:\n",
    "            winner = self.player2\n",
    "            \n",
    "        total = 0\n",
    "        for i in range(len(winner)):\n",
    "            multiplier = i+1\n",
    "            index = -(i+1)\n",
    "            total += winner[index] * multiplier\n",
    "        return total\n",
    "    \n",
    "    def winner(self):\n",
    "        if self.gameOver or (len(self.player1) > 0):\n",
    "            return 1\n",
    "        else:\n",
    "            return 2\n",
    "            \n",
    "            \n",
    "            "
   ]
  },
  {
   "cell_type": "code",
   "execution_count": 7,
   "metadata": {},
   "outputs": [
    {
     "data": {
      "text/plain": [
       "<__main__.CursedCombat at 0x7f93e4f52670>"
      ]
     },
     "execution_count": 7,
     "metadata": {},
     "output_type": "execute_result"
    }
   ],
   "source": [
    "data = {}\n",
    "for player_id, player in enumerate(my_input.split(\"\\n\\n\")):\n",
    "    lines = player.splitlines()\n",
    "    player_id = int(lines[0].split()[1][:-1])\n",
    "    cards = [ int(card) for card in lines[1:]]\n",
    "    data[player_id] = cards\n",
    "combat = CursedCombat(data[1], data[2])\n",
    "combat.play_to_end()"
   ]
  },
  {
   "cell_type": "code",
   "execution_count": 8,
   "metadata": {},
   "outputs": [
    {
     "data": {
      "text/plain": [
       "347"
      ]
     },
     "execution_count": 8,
     "metadata": {},
     "output_type": "execute_result"
    }
   ],
   "source": [
    "combat.rounds"
   ]
  },
  {
   "cell_type": "code",
   "execution_count": 9,
   "metadata": {},
   "outputs": [
    {
     "data": {
      "text/plain": [
       "33259"
      ]
     },
     "execution_count": 9,
     "metadata": {},
     "output_type": "execute_result"
    }
   ],
   "source": [
    "combat.score()"
   ]
  },
  {
   "cell_type": "code",
   "execution_count": null,
   "metadata": {},
   "outputs": [],
   "source": []
  }
 ],
 "metadata": {
  "kernelspec": {
   "display_name": "myenv",
   "language": "python",
   "name": "myenv"
  },
  "language_info": {
   "codemirror_mode": {
    "name": "ipython",
    "version": 3
   },
   "file_extension": ".py",
   "mimetype": "text/x-python",
   "name": "python",
   "nbconvert_exporter": "python",
   "pygments_lexer": "ipython3",
   "version": "3.8.2"
  }
 },
 "nbformat": 4,
 "nbformat_minor": 4
}
