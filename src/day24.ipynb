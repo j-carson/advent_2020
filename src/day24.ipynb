{
 "cells": [
  {
   "cell_type": "code",
   "execution_count": 1,
   "metadata": {},
   "outputs": [],
   "source": [
    "example_input = \"\"\"sesenwnenenewseeswwswswwnenewsewsw\n",
    "neeenesenwnwwswnenewnwwsewnenwseswesw\n",
    "seswneswswsenwwnwse\n",
    "nwnwneseeswswnenewneswwnewseswneseene\n",
    "swweswneswnenwsewnwneneseenw\n",
    "eesenwseswswnenwswnwnwsewwnwsene\n",
    "sewnenenenesenwsewnenwwwse\n",
    "wenwwweseeeweswwwnwwe\n",
    "wsweesenenewnwwnwsenewsenwwsesesenwne\n",
    "neeswseenwwswnwswswnw\n",
    "nenwswwsewswnenenewsenwsenwnesesenew\n",
    "enewnwewneswsewnwswenweswnenwsenwsw\n",
    "sweneswneswneneenwnewenewwneswswnese\n",
    "swwesenesewenwneswnwwneseswwne\n",
    "enesenwswwswneneswsenwnewswseenwsese\n",
    "wnwnesenesenenwwnenwsewesewsesesew\n",
    "nenewswnwewswnenesenwnesewesw\n",
    "eneswnwswnwsenenwnwnwwseeswneewsenese\n",
    "neswnwewnwnwseenwseesewsenwsweewe\n",
    "wseweeenwnesenwwwswnew\"\"\""
   ]
  },
  {
   "cell_type": "code",
   "execution_count": 2,
   "metadata": {},
   "outputs": [],
   "source": [
    "from collections import Counter\n",
    "from pathlib import Path\n",
    "\n",
    "def interpret(line):\n",
    "    NW = line.count(\"nw\")\n",
    "    NE = line.count(\"ne\")\n",
    "    SW = line.count(\"sw\")\n",
    "    SE = line.count(\"se\")\n",
    "    E = line.count(\"e\") - NE - SE\n",
    "    W = line.count(\"w\") - NW - SW\n",
    "    \n",
    "    # tiles are identified uniquely in X-Y coords as\n",
    "    #\n",
    "    #   -3,1      -1,1       1,1    \n",
    "    #\n",
    "    #       -2,0       0,0        2,0\n",
    "    #\n",
    "    # Rows count by 1's and columns count by \n",
    "    # 2's so that column coords stagger by row\n",
    "    # on odd and even boundaries\n",
    "    # \n",
    "    # This returns the same spot for two different sequences\n",
    "    # that end up on the same tile yet keeps math in integers\n",
    "    \n",
    "    x = 2 * (E - W) + NE + SE - (SW + NW)\n",
    "    y = NE + NW - (SE + SW)\n",
    "    return (x, y)\n",
    "    \n",
    "def black_tiles(data):\n",
    "    flipped_tiles = Counter([interpret(line) for line in data.splitlines() ])\n",
    "    blacks = []\n",
    "    for key,value in flipped_tiles.items():\n",
    "        if flipped_tiles[key] %2 == 1:\n",
    "            blacks.append(key)\n",
    "    return blacks"
   ]
  },
  {
   "cell_type": "code",
   "execution_count": 3,
   "metadata": {},
   "outputs": [
    {
     "data": {
      "text/plain": [
       "10"
      ]
     },
     "execution_count": 3,
     "metadata": {},
     "output_type": "execute_result"
    }
   ],
   "source": [
    "len(black_tiles(example_input))"
   ]
  },
  {
   "cell_type": "code",
   "execution_count": 4,
   "metadata": {},
   "outputs": [
    {
     "data": {
      "text/plain": [
       "388"
      ]
     },
     "execution_count": 4,
     "metadata": {},
     "output_type": "execute_result"
    }
   ],
   "source": [
    "my_input = Path('../data/tile_flips.txt').read_text()\n",
    "blacks = black_tiles(my_input)\n",
    "len(black_tiles(my_input))"
   ]
  },
  {
   "cell_type": "markdown",
   "metadata": {},
   "source": [
    "# Part 2"
   ]
  },
  {
   "cell_type": "code",
   "execution_count": 5,
   "metadata": {},
   "outputs": [],
   "source": [
    "def neighbors(tile):\n",
    "    return [\n",
    "        (tile[0] + 1, tile[1] + 1),\n",
    "        (tile[0] + 1, tile[1] - 1),\n",
    "        (tile[0] - 1, tile[1] + 1),\n",
    "        (tile[0] - 1, tile[1] - 1),\n",
    "        (tile[0] + 2, tile[1]),\n",
    "        (tile[0] - 2, tile[1])\n",
    "    ]\n",
    "\n",
    "class TileRules:\n",
    "    \n",
    "    def __init__(self, starting):\n",
    "        self.current = set(starting)\n",
    "        \n",
    "    def count_neighbors(self, tile):\n",
    "        return sum([\n",
    "            (n in self.current)\n",
    "            for n in neighbors(tile)\n",
    "        ])\n",
    "        \n",
    "    def play1(self):\n",
    "        must_consider = list(self.current)\n",
    "        for tile in self.current:\n",
    "            must_consider.extend(neighbors(tile))\n",
    "        must_consider = set(must_consider)\n",
    "            \n",
    "        next_round = set()\n",
    "        for tile in must_consider:\n",
    "            count = self.count_neighbors(tile)\n",
    "            \n",
    "            if (# black tile with one or two black neighbors\n",
    "                (tile in self.current) and (count in (1,2))\n",
    "                or\n",
    "                # white tile with two black neighbors\n",
    "                (tile not in self.current) and (count == 2)\n",
    "               ):\n",
    "                next_round.add(tile)\n",
    "                \n",
    "        self.current = next_round\n",
    "                \n",
    "    def playn(self, n):\n",
    "        for _ in range(n):\n",
    "            self.play1()"
   ]
  },
  {
   "cell_type": "code",
   "execution_count": 6,
   "metadata": {},
   "outputs": [
    {
     "data": {
      "text/plain": [
       "15"
      ]
     },
     "execution_count": 6,
     "metadata": {},
     "output_type": "execute_result"
    }
   ],
   "source": [
    "g = TileRules(black_tiles(example_input))\n",
    "g.play1()\n",
    "len(g.current)"
   ]
  },
  {
   "cell_type": "code",
   "execution_count": 7,
   "metadata": {},
   "outputs": [
    {
     "data": {
      "text/plain": [
       "12"
      ]
     },
     "execution_count": 7,
     "metadata": {},
     "output_type": "execute_result"
    }
   ],
   "source": [
    "g.play1()\n",
    "len(g.current)"
   ]
  },
  {
   "cell_type": "code",
   "execution_count": 8,
   "metadata": {},
   "outputs": [
    {
     "data": {
      "text/plain": [
       "4002"
      ]
     },
     "execution_count": 8,
     "metadata": {},
     "output_type": "execute_result"
    }
   ],
   "source": [
    "start = set(black_tiles(my_input))\n",
    "g = TileRules(start)\n",
    "g.playn(100)\n",
    "len(g.current)"
   ]
  },
  {
   "cell_type": "code",
   "execution_count": null,
   "metadata": {},
   "outputs": [],
   "source": []
  }
 ],
 "metadata": {
  "kernelspec": {
   "display_name": "myenv",
   "language": "python",
   "name": "myenv"
  },
  "language_info": {
   "codemirror_mode": {
    "name": "ipython",
    "version": 3
   },
   "file_extension": ".py",
   "mimetype": "text/x-python",
   "name": "python",
   "nbconvert_exporter": "python",
   "pygments_lexer": "ipython3",
   "version": "3.8.2"
  }
 },
 "nbformat": 4,
 "nbformat_minor": 4
}
