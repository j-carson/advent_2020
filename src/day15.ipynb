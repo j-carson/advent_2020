{
 "cells": [
  {
   "cell_type": "code",
   "execution_count": 1,
   "metadata": {},
   "outputs": [],
   "source": [
    "from collections import deque\n",
    "\n",
    "class NumberGame:\n",
    "    def __init__(self):\n",
    "        self.times = {}\n",
    "        self.last = 0\n",
    "        self.clock = 0\n",
    "        \n",
    "    def add_number_to_game(self, n):\n",
    "        self.last = n\n",
    "        self.clock += 1\n",
    "        \n",
    "        if n not in self.times:\n",
    "            self.times[n] = deque()\n",
    "            \n",
    "        self.times[n].appendleft(self.clock)\n",
    "        if len(self.times[n]) > 2:\n",
    "            self.times[n].pop()\n",
    "            assert(len(self.times[n]) == 2)\n",
    "        return n\n",
    "            \n",
    "    \n",
    "    def seed(self,numbers):\n",
    "        for n in numbers:\n",
    "            self.add_number_to_game(n)\n",
    "        \n",
    "    def turn(self):\n",
    "        \"\"\"\n",
    "        Each turn consists of considering the most recently spoken number:\n",
    "\n",
    "        If that was the first time the number has been spoken, the \n",
    "        current player says 0.\n",
    "        Otherwise, the number had been spoken before; the current player\n",
    "        announces how many turns apart the number is from when it was\n",
    "        previously spoken.\n",
    "        \"\"\"\n",
    "        if len(self.times[self.last]) == 1:\n",
    "            return self.add_number_to_game(0)\n",
    "        else:\n",
    "            return self.add_number_to_game(self.times[self.last][0] - self.times[self.last][1])\n",
    "        \n",
    "    def runto(self, time):\n",
    "        while self.clock < time:\n",
    "            self.turn()\n",
    "\n"
   ]
  },
  {
   "cell_type": "code",
   "execution_count": 2,
   "metadata": {},
   "outputs": [
    {
     "data": {
      "text/plain": [
       "610"
      ]
     },
     "execution_count": 2,
     "metadata": {},
     "output_type": "execute_result"
    }
   ],
   "source": [
    "n = NumberGame()\n",
    "n.seed([9,12,1,4,17,0,18])\n",
    "n.runto(2020)\n",
    "n.last"
   ]
  },
  {
   "cell_type": "code",
   "execution_count": 3,
   "metadata": {},
   "outputs": [
    {
     "data": {
      "text/plain": [
       "1407"
      ]
     },
     "execution_count": 3,
     "metadata": {},
     "output_type": "execute_result"
    }
   ],
   "source": [
    "n.runto(30000000)\n",
    "n.last\n"
   ]
  },
  {
   "cell_type": "code",
   "execution_count": null,
   "metadata": {},
   "outputs": [],
   "source": []
  }
 ],
 "metadata": {
  "kernelspec": {
   "display_name": "myenv",
   "language": "python",
   "name": "myenv"
  },
  "language_info": {
   "codemirror_mode": {
    "name": "ipython",
    "version": 3
   },
   "file_extension": ".py",
   "mimetype": "text/x-python",
   "name": "python",
   "nbconvert_exporter": "python",
   "pygments_lexer": "ipython3",
   "version": "3.8.2"
  }
 },
 "nbformat": 4,
 "nbformat_minor": 4
}
