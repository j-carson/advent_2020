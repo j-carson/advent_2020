{
 "cells": [
  {
   "cell_type": "code",
   "execution_count": 1,
   "metadata": {},
   "outputs": [],
   "source": [
    "from dataclasses import dataclass\n",
    "from enum import Enum\n",
    "from collections import namedtuple\n",
    "\n",
    "\n",
    "class TokenType(Enum):\n",
    "    LeftParen = 1\n",
    "    RightParen = 2\n",
    "    Number = 3\n",
    "    Plus = 4\n",
    "    Star = 5\n",
    "\n",
    "    \n",
    "Token = namedtuple(\"Token\", \"token_type,token_value\")\n",
    "       \n",
    "    \n",
    "def tokenize(line):\n",
    "    \"\"\"Breaks homework line into token types,\n",
    "    matching parens as we go\n",
    "    \"\"\"\n",
    "    result = []\n",
    "    paren_counter = 0\n",
    "    for ch in line:\n",
    "        if ch.isspace():\n",
    "            continue\n",
    "        elif ch.isnumeric():\n",
    "            result.append(Token(TokenType.Number, int(ch)))\n",
    "        elif ch == '(':\n",
    "            result.append(Token(TokenType.LeftParen, paren_counter))\n",
    "            paren_counter += 1\n",
    "        elif ch == ')':\n",
    "            paren_counter -= 1\n",
    "            result.append(Token(TokenType.RightParen, paren_counter))\n",
    "        elif ch == '+':\n",
    "            result.append(Token(TokenType.Plus, 0))\n",
    "        elif ch == '*':\n",
    "            result.append(Token(TokenType.Star, 0))\n",
    "        else:\n",
    "            raise ValueError(\"Unexpected Character\")\n",
    "    return result\n",
    "   \n",
    "\n",
    "def next_value(tokenlist, evaluator):\n",
    "    \"\"\"Pull a number off the tokenlist, either by returning the \n",
    "    first item, if it's a number, or by evaluating the first\n",
    "    expression if the first item is a left-paren\n",
    "    \n",
    "    evaluator is an arg so that can switch between problem 1\n",
    "    and problem 2 evaluation rules\n",
    "    \n",
    "    Returns: number and list of unconsumed tokens\"\"\"\n",
    "    \n",
    "    token = tokenlist[0]\n",
    "    \n",
    "    if token.token_type == TokenType.Number:\n",
    "        return token.token_value, tokenlist[1:]\n",
    "        \n",
    "    elif token.token_type == TokenType.LeftParen:\n",
    "        \n",
    "        # evaluate expresson from left-paren to matching\n",
    "        # right paren\n",
    "        for index, seek_token in enumerate(tokenlist):\n",
    "            if ((seek_token.token_type == TokenType.RightParen) and \n",
    "                (seek_token.token_value == token.token_value)):\n",
    "                \n",
    "                value = evaluator(tokenlist[1:index])\n",
    "                return value, tokenlist[index + 1:]\n",
    "            \n",
    "    else:\n",
    "        raise ValueError(\"Unexpected Token\")\n",
    "       "
   ]
  },
  {
   "cell_type": "markdown",
   "metadata": {},
   "source": [
    "# Problem 1\n",
    "\n",
    "The homework (your puzzle input) consists of a series of expressions that consist of addition (+), multiplication (*), and parentheses ((...)). Just like normal math, parentheses indicate that the expression inside must be evaluated before it can be used by the surrounding expression. Addition still finds the sum of the numbers on both sides of the operator, and multiplication still finds the product.\n",
    "\n",
    "However, the rules of operator precedence have changed. Rather than evaluating multiplication before addition, the operators have the same precedence, and are evaluated left-to-right regardless of the order in which they appear."
   ]
  },
  {
   "cell_type": "code",
   "execution_count": 2,
   "metadata": {},
   "outputs": [],
   "source": [
    "def evaluate(tokenlist): \n",
    "    value, tokenlist = next_value(tokenlist, evaluate)\n",
    "    \n",
    "    while len(tokenlist):\n",
    "        operation = tokenlist[0]\n",
    "        value2, tokenlist = next_value(tokenlist[1:], evaluate)\n",
    "    \n",
    "        if operation.token_type == TokenType.Plus:\n",
    "            value =  value + value2\n",
    "        elif operation.token_type == TokenType.Star:\n",
    "            value = value * value2\n",
    "            \n",
    "    return value"
   ]
  },
  {
   "cell_type": "code",
   "execution_count": 3,
   "metadata": {},
   "outputs": [
    {
     "data": {
      "text/plain": [
       "71"
      ]
     },
     "execution_count": 3,
     "metadata": {},
     "output_type": "execute_result"
    }
   ],
   "source": [
    "test = '1 + 2 * 3 + 4 * 5 + 6'    \n",
    "tokens = tokenize(test)\n",
    "evaluate(tokens)"
   ]
  },
  {
   "cell_type": "code",
   "execution_count": 4,
   "metadata": {},
   "outputs": [
    {
     "data": {
      "text/plain": [
       "51"
      ]
     },
     "execution_count": 4,
     "metadata": {},
     "output_type": "execute_result"
    }
   ],
   "source": [
    "test = '1 + (2 * 3) + (4 * (5 + 6))'\n",
    "tokens = tokenize(test)\n",
    "evaluate(tokens)"
   ]
  },
  {
   "cell_type": "code",
   "execution_count": 5,
   "metadata": {},
   "outputs": [
    {
     "data": {
      "text/plain": [
       "75592527415659"
      ]
     },
     "execution_count": 5,
     "metadata": {},
     "output_type": "execute_result"
    }
   ],
   "source": [
    "with open('homework.txt') as fp:\n",
    "    data = fp.read()\n",
    "    \n",
    "total = 0\n",
    "for line in data.splitlines():\n",
    "    total += evaluate(tokenize(line))\n",
    "total"
   ]
  },
  {
   "cell_type": "markdown",
   "metadata": {},
   "source": [
    "# Problem 2\n",
    "\n",
    "Now, addition and multiplication have different precedence levels, but they're not the ones you're familiar with. Instead, addition is evaluated before multiplication."
   ]
  },
  {
   "cell_type": "code",
   "execution_count": 6,
   "metadata": {},
   "outputs": [],
   "source": [
    "def evaluate2(tokenlist):\n",
    "    \n",
    "    if not len(tokenlist):\n",
    "        raise ValueError(\"Empty Tokenlist\")\n",
    "        \n",
    "    value, tokenlist = next_value(tokenlist, evaluate2)\n",
    "    \n",
    "    while len(tokenlist):\n",
    "        operation = tokenlist[0]\n",
    "        tokenlist = tokenlist[1:]\n",
    "        \n",
    "        if operation.token_type == TokenType.Plus:\n",
    "            value2, tokenlist = next_value(tokenlist, evaluate2)\n",
    "            value = value + value2\n",
    "            \n",
    "        elif operation.token_type == TokenType.Star:\n",
    "            value2 = evaluate2(tokenlist)\n",
    "            value = value * value2\n",
    "            return value\n",
    "        \n",
    "        else:\n",
    "            raise ValueError(\"Unexpected token\")\n",
    "            \n",
    "    return value\n",
    "        "
   ]
  },
  {
   "cell_type": "code",
   "execution_count": 7,
   "metadata": {},
   "outputs": [
    {
     "data": {
      "text/plain": [
       "231"
      ]
     },
     "execution_count": 7,
     "metadata": {},
     "output_type": "execute_result"
    }
   ],
   "source": [
    "test = '1 + 2 * 3 + 4 * 5 + 6'    \n",
    "tokens = tokenize(test)\n",
    "\n",
    "evaluate2(tokens)"
   ]
  },
  {
   "cell_type": "code",
   "execution_count": 8,
   "metadata": {},
   "outputs": [
    {
     "data": {
      "text/plain": [
       "51"
      ]
     },
     "execution_count": 8,
     "metadata": {},
     "output_type": "execute_result"
    }
   ],
   "source": [
    "test = '1 + (2 * 3) + (4 * (5 + 6))'\n",
    "tokens = tokenize(test)\n",
    "evaluate2(tokens)"
   ]
  },
  {
   "cell_type": "code",
   "execution_count": 9,
   "metadata": {},
   "outputs": [
    {
     "data": {
      "text/plain": [
       "360029542265462"
      ]
     },
     "execution_count": 9,
     "metadata": {},
     "output_type": "execute_result"
    }
   ],
   "source": [
    "with open('homework.txt') as fp:\n",
    "    data = fp.read()\n",
    "    \n",
    "total = 0\n",
    "for line in data.splitlines():\n",
    "    total += evaluate2(tokenize(line))\n",
    "total"
   ]
  },
  {
   "cell_type": "code",
   "execution_count": null,
   "metadata": {},
   "outputs": [],
   "source": []
  }
 ],
 "metadata": {
  "kernelspec": {
   "display_name": "myenv",
   "language": "python",
   "name": "myenv"
  },
  "language_info": {
   "codemirror_mode": {
    "name": "ipython",
    "version": 3
   },
   "file_extension": ".py",
   "mimetype": "text/x-python",
   "name": "python",
   "nbconvert_exporter": "python",
   "pygments_lexer": "ipython3",
   "version": "3.8.2"
  }
 },
 "nbformat": 4,
 "nbformat_minor": 4
}
