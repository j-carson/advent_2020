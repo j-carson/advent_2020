{
 "cells": [
  {
   "cell_type": "code",
   "execution_count": 1,
   "metadata": {},
   "outputs": [],
   "source": [
    "import numpy as np\n",
    "\n",
    "from tile import *\n",
    "from data_manager import load_test_data,load_problem_data, load_sea_monster"
   ]
  },
  {
   "cell_type": "code",
   "execution_count": 2,
   "metadata": {},
   "outputs": [
    {
     "name": "stdout",
     "output_type": "stream",
     "text": [
      "18411576553343\n"
     ]
    }
   ],
   "source": [
    "all_tiles = load_problem_data()\n",
    "puzzle = TilePuzzle(all_tiles).solve()\n",
    "layout = puzzle.layout\n",
    "\n",
    "# problem 1: What's the product of the corners\n",
    "print( layout[0,0] * layout[0,-1] * layout[-1,-1] * layout[-1,0])"
   ]
  },
  {
   "cell_type": "code",
   "execution_count": 3,
   "metadata": {},
   "outputs": [
    {
     "name": "stdout",
     "output_type": "stream",
     "text": [
      "43\n"
     ]
    }
   ],
   "source": [
    "big_map = puzzle.combine_pieces()\n",
    "sea_monster = load_sea_monster()\n",
    "\n",
    "for flip,rotate in UNIQUE_TRANSFORMS:\n",
    "    this_map = big_map.transform(flip,rotate)\n",
    "    count =  this_map.count_pattern(sea_monster)\n",
    "    if count > 0:\n",
    "        break\n",
    "print(count)"
   ]
  },
  {
   "cell_type": "code",
   "execution_count": 4,
   "metadata": {},
   "outputs": [
    {
     "name": "stdout",
     "output_type": "stream",
     "text": [
      "2002\n"
     ]
    }
   ],
   "source": [
    "sea_monster_1s = sea_monster.data.sum() * count\n",
    "sea_1s = big_map.data.sum()\n",
    "sea_rough = sea_1s - sea_monster_1s\n",
    "print(sea_rough)"
   ]
  },
  {
   "cell_type": "code",
   "execution_count": 5,
   "metadata": {},
   "outputs": [],
   "source": [
    "#645 too low"
   ]
  }
 ],
 "metadata": {
  "kernelspec": {
   "display_name": "myenv",
   "language": "python",
   "name": "myenv"
  },
  "language_info": {
   "codemirror_mode": {
    "name": "ipython",
    "version": 3
   },
   "file_extension": ".py",
   "mimetype": "text/x-python",
   "name": "python",
   "nbconvert_exporter": "python",
   "pygments_lexer": "ipython3",
   "version": "3.8.2"
  }
 },
 "nbformat": 4,
 "nbformat_minor": 4
}
