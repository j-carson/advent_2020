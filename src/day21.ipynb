{
 "cells": [
  {
   "cell_type": "code",
   "execution_count": 1,
   "metadata": {},
   "outputs": [],
   "source": [
    "from pathlib import Path\n",
    "import pandas as pd\n",
    "import itertools as its"
   ]
  },
  {
   "cell_type": "markdown",
   "metadata": {},
   "source": [
    "Each allergen is found in exactly one ingredient. Each ingredient contains zero or one allergen. Allergens aren't always marked; when they're listed (as in (contains nuts, shellfish) after an ingredients list), the ingredient that contains each listed allergen will be somewhere in the corresponding ingredients list. However, even if an allergen isn't listed, the ingredient that contains that allergen could still be present: maybe they forgot to label it, or maybe it was labeled in a language you don't know."
   ]
  },
  {
   "cell_type": "code",
   "execution_count": 2,
   "metadata": {},
   "outputs": [
    {
     "data": {
      "text/html": [
       "<div>\n",
       "<style scoped>\n",
       "    .dataframe tbody tr th:only-of-type {\n",
       "        vertical-align: middle;\n",
       "    }\n",
       "\n",
       "    .dataframe tbody tr th {\n",
       "        vertical-align: top;\n",
       "    }\n",
       "\n",
       "    .dataframe thead th {\n",
       "        text-align: right;\n",
       "    }\n",
       "</style>\n",
       "<table border=\"1\" class=\"dataframe\">\n",
       "  <thead>\n",
       "    <tr style=\"text-align: right;\">\n",
       "      <th></th>\n",
       "      <th>food_id</th>\n",
       "      <th>allergen</th>\n",
       "      <th>ingred</th>\n",
       "    </tr>\n",
       "  </thead>\n",
       "  <tbody>\n",
       "    <tr>\n",
       "      <th>0</th>\n",
       "      <td>0</td>\n",
       "      <td>dairy</td>\n",
       "      <td>cdblnb</td>\n",
       "    </tr>\n",
       "    <tr>\n",
       "      <th>1</th>\n",
       "      <td>0</td>\n",
       "      <td>sesame</td>\n",
       "      <td>cdblnb</td>\n",
       "    </tr>\n",
       "    <tr>\n",
       "      <th>2</th>\n",
       "      <td>0</td>\n",
       "      <td>dairy</td>\n",
       "      <td>txts</td>\n",
       "    </tr>\n",
       "    <tr>\n",
       "      <th>3</th>\n",
       "      <td>0</td>\n",
       "      <td>sesame</td>\n",
       "      <td>txts</td>\n",
       "    </tr>\n",
       "    <tr>\n",
       "      <th>4</th>\n",
       "      <td>0</td>\n",
       "      <td>dairy</td>\n",
       "      <td>scljtv</td>\n",
       "    </tr>\n",
       "  </tbody>\n",
       "</table>\n",
       "</div>"
      ],
      "text/plain": [
       "   food_id allergen  ingred\n",
       "0        0    dairy  cdblnb\n",
       "1        0   sesame  cdblnb\n",
       "2        0    dairy    txts\n",
       "3        0   sesame    txts\n",
       "4        0    dairy  scljtv"
      ]
     },
     "execution_count": 2,
     "metadata": {},
     "output_type": "execute_result"
    }
   ],
   "source": [
    "problem_ingreds = Path(\"ingredients.txt\").read_text()\n",
    "test_ingreds = \"\"\"mxmxvkd kfcds sqjhc nhms (contains dairy, fish)\n",
    "trh fvjkl sbzzf mxmxvkd (contains dairy)\n",
    "sqjhc fvjkl (contains soy)\n",
    "sqjhc mxmxvkd sbzzf (contains fish)\"\"\"\n",
    "\n",
    "items = dict(food_id=[], allergen=[], ingred=[])\n",
    "\n",
    "load_these_ingreds = problem_ingreds\n",
    "for food_id, line in enumerate(load_these_ingreds.splitlines()):\n",
    "    contents, warning = line.split('(contains')\n",
    "    \n",
    "    content_words = contents.split()\n",
    "    allergy_words = warning[:-1].replace(\",\",\"\").split()\n",
    "    \n",
    "    for c,a in its.product(content_words, allergy_words):\n",
    "        items['food_id'].append(food_id)\n",
    "        items['allergen'].append(a)\n",
    "        items['ingred'].append(c)\n",
    "        \n",
    "df = pd.DataFrame(items)\n",
    "df.head()"
   ]
  },
  {
   "cell_type": "markdown",
   "metadata": {},
   "source": [
    "# Problem 1\n",
    "\n",
    "Test data\n",
    "```\n",
    "mxmxvkd kfcds sqjhc nhms (contains dairy, fish)\n",
    "trh fvjkl sbzzf mxmxvkd (contains dairy)\n",
    "sqjhc fvjkl (contains soy)\n",
    "sqjhc mxmxvkd sbzzf (contains fish)\n",
    "```\n",
    "\n",
    "The first food in the list has four ingredients (written in a language you don't understand): mxmxvkd, kfcds, sqjhc, and nhms. While the food might contain other allergens, a few allergens the food definitely contains are listed afterward: dairy and fish.\n",
    "\n",
    "The first step is to determine which ingredients can't possibly contain any of the allergens in any food in your list. In the above example, none of the ingredients kfcds, nhms, sbzzf, or trh can contain an allergen. Counting the number of times any of these ingredients appear in any ingredients list produces 5: they all appear once each except sbzzf, which appears twice."
   ]
  },
  {
   "cell_type": "code",
   "execution_count": 3,
   "metadata": {},
   "outputs": [],
   "source": [
    "allergy_match = {}\n",
    "\n",
    "done = False\n",
    "while not done:\n",
    "    \n",
    "    done = True\n",
    "    # make lists of matched and unmatched allergens\n",
    "    matched = list(allergy_match.keys())\n",
    "    unmatched = [a for a in df.allergen.unique() if a not in matched ]\n",
    "    \n",
    "    # stop considering ingredients we've already matched\n",
    "    matched_ingreds = list(allergy_match.values())\n",
    "    search_df = df[~df.ingred.isin(matched_ingreds)]\n",
    "    \n",
    "    for allergen in unmatched:\n",
    "        # grab the rows for the given allergen\n",
    "        aldf = search_df[search_df.allergen == allergen]\n",
    "        \n",
    "        # count how many ingredient lists w/ allergen\n",
    "        how_many_foods = aldf.food_id.nunique()\n",
    "        \n",
    "        # count how many unmatched ingreds w/ allergen\n",
    "        ingred_counts = aldf.groupby('ingred').food_id.count()\n",
    "        \n",
    "        # if the number ingredient associations equals the number of \n",
    "        # unique ingredient lists, that's a match\n",
    "        match = ingred_counts[ingred_counts == how_many_foods]\n",
    "        if match.shape== (1,):\n",
    "            done = False\n",
    "            allergy_match[allergen] = match.index[0]\n",
    "        "
   ]
  },
  {
   "cell_type": "code",
   "execution_count": 4,
   "metadata": {},
   "outputs": [
    {
     "data": {
      "text/plain": [
       "True"
      ]
     },
     "execution_count": 4,
     "metadata": {},
     "output_type": "execute_result"
    }
   ],
   "source": [
    "len(allergy_match) == df.allergen.nunique()"
   ]
  },
  {
   "cell_type": "code",
   "execution_count": 5,
   "metadata": {},
   "outputs": [
    {
     "data": {
      "text/plain": [
       "1945"
      ]
     },
     "execution_count": 5,
     "metadata": {},
     "output_type": "execute_result"
    }
   ],
   "source": [
    "df[~df.ingred.isin(allergy_match.values())][['food_id','ingred']].drop_duplicates().shape[0]"
   ]
  },
  {
   "cell_type": "markdown",
   "metadata": {},
   "source": [
    "# Problem 2\n",
    "\n",
    "Arrange the ingredients alphabetically by their allergen and separate them by commas to produce your canonical dangerous ingredient list."
   ]
  },
  {
   "cell_type": "code",
   "execution_count": 6,
   "metadata": {},
   "outputs": [
    {
     "data": {
      "text/plain": [
       "'pgnpx,srmsh,ksdgk,dskjpq,nvbrx,khqsk,zbkbgp,xzb'"
      ]
     },
     "execution_count": 6,
     "metadata": {},
     "output_type": "execute_result"
    }
   ],
   "source": [
    "\",\".join([allergy_match[key] for key in sorted(allergy_match.keys())])"
   ]
  },
  {
   "cell_type": "code",
   "execution_count": null,
   "metadata": {},
   "outputs": [],
   "source": []
  }
 ],
 "metadata": {
  "kernelspec": {
   "display_name": "myenv",
   "language": "python",
   "name": "myenv"
  },
  "language_info": {
   "codemirror_mode": {
    "name": "ipython",
    "version": 3
   },
   "file_extension": ".py",
   "mimetype": "text/x-python",
   "name": "python",
   "nbconvert_exporter": "python",
   "pygments_lexer": "ipython3",
   "version": "3.8.2"
  }
 },
 "nbformat": 4,
 "nbformat_minor": 4
}
